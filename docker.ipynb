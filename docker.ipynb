{
 "cells": [
  {
   "cell_type": "code",
   "execution_count": 11,
   "id": "cb1b8e60",
   "metadata": {},
   "outputs": [],
   "source": [
    "import numpy as np\n",
    "import pandas as pd\n",
    "from sklearn.model_selection import train_test_split\n",
    "from sklearn.ensemble import RandomForestClassifier\n",
    "from sklearn.metrics import accuracy_score\n",
    "import matplotlib.pyplot as plt\n",
    "import seaborn as sns\n",
    "from sklearn.metrics import accuracy_score, confusion_matrix\n"
   ]
  },
  {
   "cell_type": "code",
   "execution_count": 10,
   "id": "b03a90fd",
   "metadata": {},
   "outputs": [
    {
     "name": "stdout",
     "output_type": "stream",
     "text": [
      "Welcome to the Machine Learning Application!\n",
      "1. Upload your own data\n",
      "2. Use the built-in Iris dataset\n",
      "Enter your choice (1 or 2): 2\n",
      "Using the built-in Iris dataset.\n",
      "Accuracy of the classifier: 1.000\n"
     ]
    },
    {
     "data": {
      "image/png": "[encoded data removed]",
      "text/plain": [
       "<Figure size 800x600 with 2 Axes>"
      ]
     },
     "metadata": {},
     "output_type": "display_data"
    }
   ],
   "source": [
    "\n",
    "# Load the built-in Iris dataset\n",
    "from sklearn.datasets import load_iris\n",
    "iris = load_iris()\n",
    "data = pd.DataFrame(data=np.c_[iris['data'], iris['target']],\n",
    "                    columns=iris['feature_names'] + ['target'])\n",
    "\n",
    "# Main function\n",
    "def main():\n",
    "    print(\"Welcome to the Machine Learning Application!\")\n",
    "    print(\"1. Upload your own data\")\n",
    "    print(\"2. Use the built-in Iris dataset\")\n",
    "    choice = int(input(\"Enter your choice (1 or 2): \"))\n",
    "    \n",
    "    if choice == 1:\n",
    "        file_path = input(\"Enter the path to your data file: \")\n",
    "        # Load your data using pandas or any other method\n",
    "        data = pd.read_csv(file_path)\n",
    "    elif choice == 2:\n",
    "        print(\"Using the built-in Iris dataset.\")\n",
    "    \n",
    "        # Data preprocessing\n",
    "        X = iris.data\n",
    "        y = iris.target\n",
    "    \n",
    "        # Split the data into training and testing sets\n",
    "        X_train, X_test, y_train, y_test = train_test_split(X, y, test_size=0.2, random_state=42)\n",
    "    \n",
    "        # Train a classifier (Random Forest in this case)\n",
    "        classifier = RandomForestClassifier()\n",
    "        classifier.fit(X_train, y_train)\n",
    "    \n",
    "        # Make predictions\n",
    "        y_pred = classifier.predict(X_test)\n",
    "    \n",
    "        # Calculate accuracy\n",
    "        accuracy = accuracy_score(y_test, y_pred)\n",
    "        print(f\"Accuracy of the classifier: {accuracy:.3f}\")\n",
    "        \n",
    "        # Plot a confusion matrix\n",
    "        cm = confusion_matrix(y_test, y_pred)\n",
    "        plt.figure(figsize=(8, 6))\n",
    "        sns.heatmap(cm, annot=True, fmt=\"d\", cmap=\"Blues\")\n",
    "        plt.xlabel(\"Predicted Labels\")\n",
    "        plt.ylabel(\"True Labels\")\n",
    "        plt.title(\"Confusion Matrix\")\n",
    "        plt.show()\n",
    "\n",
    "if __name__ == \"__main__\":\n",
    "    main()\n",
    "\n"
   ]
  },
  {
   "cell_type": "code",
   "execution_count": 12,
   "id": "f82f7a6a",
   "metadata": {},
   "outputs": [
    {
     "name": "stdout",
     "output_type": "stream",
     "text": [
      "Collecting docker\n",
      "  Downloading docker-6.1.3-py3-none-any.whl (148 kB)\n",
      "     -------------------------------------- 148.1/148.1 kB 9.2 MB/s eta 0:00:00\n",
      "Requirement already satisfied: urllib3>=1.26.0 in c:\\users\\user\\anaconda3\\lib\\site-packages (from docker) (1.26.14)\n",
      "Requirement already satisfied: websocket-client>=0.32.0 in c:\\users\\user\\anaconda3\\lib\\site-packages (from docker) (0.58.0)\n",
      "Requirement already satisfied: packaging>=14.0 in c:\\users\\user\\anaconda3\\lib\\site-packages (from docker) (22.0)\n",
      "Requirement already satisfied: pywin32>=304 in c:\\users\\user\\anaconda3\\lib\\site-packages (from docker) (305.1)\n",
      "Requirement already satisfied: requests>=2.26.0 in c:\\users\\user\\anaconda3\\lib\\site-packages (from docker) (2.28.1)\n",
      "Requirement already satisfied: certifi>=2017.4.17 in c:\\users\\user\\anaconda3\\lib\\site-packages (from requests>=2.26.0->docker) (2022.12.7)\n",
      "Requirement already satisfied: idna<4,>=2.5 in c:\\users\\user\\anaconda3\\lib\\site-packages (from requests>=2.26.0->docker) (3.4)\n",
      "Requirement already satisfied: charset-normalizer<3,>=2 in c:\\users\\user\\anaconda3\\lib\\site-packages (from requests>=2.26.0->docker) (2.0.4)\n",
      "Requirement already satisfied: six in c:\\users\\user\\anaconda3\\lib\\site-packages (from websocket-client>=0.32.0->docker) (1.16.0)\n",
      "Installing collected packages: docker\n",
      "Successfully installed docker-6.1.3\n"
     ]
    }
   ],
   "source": [
    "!pip install docker"
   ]
  },
  {
   "cell_type": "code",
   "execution_count": null,
   "id": "68b0aff7",
   "metadata": {},
   "outputs": [],
   "source": [
    "import docker\n",
    "\n",
    "client = docker.from_env()\n",
    "\n",
    "# Tag the image\n",
    "source_image = \"napp:latest\"\n",
    "target_image = \"3500/bhaskar:vi\"\n",
    "client.images.get(source_image).tag(target_image)\n",
    "\n",
    "# Push the image\n",
    "client.images.push(target_image)"
   ]
  },
  {
   "cell_type": "code",
   "execution_count": null,
   "id": "836cd494",
   "metadata": {},
   "outputs": [],
   "source": [
    "# Use the official Python image as the base image\n",
    "FROM python:3.8\n",
    "\n",
    "# Set the working directory in the container\n",
    "WORKDIR /app\n",
    "\n",
    "# Copy the Python script to the container's working directory\n",
    "COPY your_script.py /app/\n",
    "\n",
    "# Install any required dependencies\n",
    "RUN pip install requests  # Add any other dependencies here\n",
    "\n",
    "# Run the Python script when the container starts\n",
    "CMD [\"python\", \"your_script.py\"]\n"
   ]
  },
  {
   "cell_type": "code",
   "execution_count": 13,
   "id": "46799200",
   "metadata": {},
   "outputs": [
    {
     "ename": "CalledProcessError",
     "evalue": "Command 'docker build -t aisc_app .' returned non-zero exit status 1.",
     "output_type": "error",
     "traceback": [
      "\u001b[1;31m---------------------------------------------------------------------------\u001b[0m",
      "\u001b[1;31mCalledProcessError\u001b[0m                        Traceback (most recent call last)",
      "Cell \u001b[1;32mIn[13], line 5\u001b[0m\n\u001b[0;32m      3\u001b[0m \u001b[38;5;66;03m# Build the Docker image\u001b[39;00m\n\u001b[0;32m      4\u001b[0m build_command \u001b[38;5;241m=\u001b[39m \u001b[38;5;124m\"\u001b[39m\u001b[38;5;124mdocker build -t aisc_app .\u001b[39m\u001b[38;5;124m\"\u001b[39m\n\u001b[1;32m----> 5\u001b[0m \u001b[43msubprocess\u001b[49m\u001b[38;5;241;43m.\u001b[39;49m\u001b[43mrun\u001b[49m\u001b[43m(\u001b[49m\u001b[43mbuild_command\u001b[49m\u001b[43m,\u001b[49m\u001b[43m \u001b[49m\u001b[43mshell\u001b[49m\u001b[38;5;241;43m=\u001b[39;49m\u001b[38;5;28;43;01mTrue\u001b[39;49;00m\u001b[43m,\u001b[49m\u001b[43m \u001b[49m\u001b[43mcheck\u001b[49m\u001b[38;5;241;43m=\u001b[39;49m\u001b[38;5;28;43;01mTrue\u001b[39;49;00m\u001b[43m)\u001b[49m\n\u001b[0;32m      7\u001b[0m \u001b[38;5;66;03m# Tag the Docker image\u001b[39;00m\n\u001b[0;32m      8\u001b[0m tag_command \u001b[38;5;241m=\u001b[39m \u001b[38;5;124m\"\u001b[39m\u001b[38;5;124mdocker tag aisc_app vamsidasari99/aisc_2013:latest\u001b[39m\u001b[38;5;124m\"\u001b[39m\n",
      "File \u001b[1;32m~\\anaconda3\\lib\\subprocess.py:526\u001b[0m, in \u001b[0;36mrun\u001b[1;34m(input, capture_output, timeout, check, *popenargs, **kwargs)\u001b[0m\n\u001b[0;32m    524\u001b[0m     retcode \u001b[38;5;241m=\u001b[39m process\u001b[38;5;241m.\u001b[39mpoll()\n\u001b[0;32m    525\u001b[0m     \u001b[38;5;28;01mif\u001b[39;00m check \u001b[38;5;129;01mand\u001b[39;00m retcode:\n\u001b[1;32m--> 526\u001b[0m         \u001b[38;5;28;01mraise\u001b[39;00m CalledProcessError(retcode, process\u001b[38;5;241m.\u001b[39margs,\n\u001b[0;32m    527\u001b[0m                                  output\u001b[38;5;241m=\u001b[39mstdout, stderr\u001b[38;5;241m=\u001b[39mstderr)\n\u001b[0;32m    528\u001b[0m \u001b[38;5;28;01mreturn\u001b[39;00m CompletedProcess(process\u001b[38;5;241m.\u001b[39margs, retcode, stdout, stderr)\n",
      "\u001b[1;31mCalledProcessError\u001b[0m: Command 'docker build -t aisc_app .' returned non-zero exit status 1."
     ]
    }
   ],
   "source": [
    "import subprocess\n",
    "\n",
    "# Build the Docker image\n",
    "build_command = \"docker build -t aisc_app .\"\n",
    "subprocess.run(build_command, shell=True, check=True)\n",
    "\n",
    "# Tag the Docker image\n",
    "tag_command = \"docker tag aisc_app vamsidasari99/aisc_2013:latest\"\n",
    "subprocess.run(tag_command, shell=True, check=True)\n",
    "\n",
    "# Push the Docker image to Docker Hub\n",
    "push_command = \"docker push vamsidasari99/aisc_2013:latest\"\n",
    "subprocess.run(push_command, shell=True, check=True)\n",
    "\n",
    "# Run the app using the image from the public repository\n",
    "run_command = \"docker run vamsidasari99/aisc_2013:latest\"\n",
    "subprocess.run(run_command, shell=True, check=True)\n"
   ]
  },
  {
   "cell_type": "code",
   "execution_count": 14,
   "id": "3639b41e",
   "metadata": {},
   "outputs": [
    {
     "name": "stderr",
     "output_type": "stream",
     "text": [
      "WARNING! Using --password via the CLI is insecure. Use --password-stdin.\n",
      "error during connect: this error may indicate that the docker daemon is not running: Post \"http://%2F%2F.%2Fpipe%2Fdocker_engine/v1.24/auth\": open //./pipe/docker_engine: The system cannot find the file specified.\n"
     ]
    }
   ],
   "source": [
    "!docker login -u vamsidasari99 -p Satyavathi@#3231\n"
   ]
  },
  {
   "cell_type": "code",
   "execution_count": 15,
   "id": "2a75ac92",
   "metadata": {},
   "outputs": [
    {
     "name": "stderr",
     "output_type": "stream",
     "text": [
      "error during connect: this error may indicate that the docker daemon is not running: Post \"http://%2F%2F.%2Fpipe%2Fdocker_engine/v1.24/images/vamsidasari99/aisc_2013/push?tag=tagname\": open //./pipe/docker_engine: The system cannot find the file specified.\n"
     ]
    }
   ],
   "source": [
    "!docker push vamsidasari99/aisc_2013:tagname\n"
   ]
  },
  {
   "cell_type": "code",
   "execution_count": null,
   "id": "1dbba368",
   "metadata": {},
   "outputs": [],
   "source": []
  }
 ],
 "metadata": {
  "kernelspec": {
   "display_name": "Python 3 (ipykernel)",
   "language": "python",
   "name": "python3"
  },
  "language_info": {
   "codemirror_mode": {
    "name": "ipython",
    "version": 3
   },
   "file_extension": ".py",
   "mimetype": "text/x-python",
   "name": "python",
   "nbconvert_exporter": "python",
   "pygments_lexer": "ipython3",
   "version": "3.10.9"
  }
 },
 "nbformat": 4,
 "nbformat_minor": 5
}
